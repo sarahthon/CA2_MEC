{
 "cells": [
  {
   "cell_type": "code",
   "execution_count": 1,
   "metadata": {},
   "outputs": [],
   "source": [
    "%load_ext autoreload\n",
    "%autoreload 2"
   ]
  },
  {
   "cell_type": "code",
   "execution_count": 2,
   "metadata": {},
   "outputs": [],
   "source": [
    "import matplotlib.pyplot as plt\n",
    "%matplotlib inline\n",
    "plt.style.use('../bioAI.mplstyle')\n",
    "import expipe\n",
    "import sys\n",
    "import pathlib\n",
    "import numpy as np\n",
    "import numpy.ma as ma\n",
    "import scipy\n",
    "import tqdm\n",
    "import pandas as pd\n",
    "\n",
    "from scipy.interpolate import interp1d\n",
    "\n",
    "sys.path.append('../ca2-mec') if '../ca2-mec' not in sys.path else None \n",
    "import dataloader as dl\n",
    "from utils import *\n",
    "from plotting_functions import *"
   ]
  },
  {
   "cell_type": "code",
   "execution_count": 3,
   "metadata": {},
   "outputs": [
    {
     "data": {
      "application/vnd.jupyter.widget-view+json": {
       "model_id": "b5006599e2ce4341bfabcec2f5772364",
       "version_major": 2,
       "version_minor": 0
      },
      "text/plain": [
       "HBox(children=(VBox(children=(Text(value='', placeholder='Search'), Select(layout=Layout(height='200px'), opti…"
      ]
     },
     "metadata": {},
     "output_type": "display_data"
    }
   ],
   "source": [
    "project = expipe.get_project(dl.project_path())\n",
    "project.actions"
   ]
  },
  {
   "cell_type": "markdown",
   "metadata": {},
   "source": [
    "### Initialise data loader"
   ]
  },
  {
   "cell_type": "code",
   "execution_count": 4,
   "metadata": {},
   "outputs": [
    {
     "name": "stdout",
     "output_type": "stream",
     "text": [
      "load #spikes:  61\n"
     ]
    }
   ],
   "source": [
    "lim = [0,1200] # limit recording times - in seconds\n",
    "\n",
    "\n",
    "\n",
    "#CA2 - rotte 001:\n",
    "#include_actions = ['001-181220-2', '001-181220-3', '001-181220-4', '001-181220-5', '001-181220-6', '001-191220-1', '001-191220-3', '001-191220-6', '001-191220-7', '001-191220-8'] # choose actions to include\n",
    "#include_actions = ['001-191220-1', '001-191220-3', '001-191220-6', '001-191220-7', '001-191220-8']\n",
    "include_actions = ['001-181220-2', '001-181220-3', '001-181220-4', '001-181220-5', '001-181220-6']\n",
    "#include_actions = ['001-211220-1', '001-211220-2', '001-211220-3', '001-211220-4', '001-211220-5']\n",
    "\n",
    "#CA2 rotte 007:\n",
    "#include_actions = ['007-081221-1', '007-081221-2', '007-081221-3', '007-081221-4', '007-081221-5', '007-081221-6']\n",
    "#include_actions = ['007-091221-1', '007-091221-2', '007-091221-3', '007-091221-4', '007-091221-5', '007-091221-7']\n",
    "\n",
    "#CA2 - rotte 011:\n",
    "#include_actions = ['011-120321-2', '011-120321-3', '011-120321-4', '011-120321-5', '011-120321-6']\n",
    "#include_actions = ['022-160322-1', '022-160322-2', '022-160322-3', '022-160322-4', '022-160322-5', '022-160322-7']\n",
    "\n",
    "#CA2 - rotte 022:\n",
    "#include_actions = ['022-160322-1', '022-160322-2', '022-160322-3', '022-160322-4', '022-160322-5', '022-160322-7']\n",
    "\n",
    "\n",
    "#CA1 - rotte 144:\n",
    "#include_actions = ['144-100621-1', '144-100621-2', '144-100621-3', '144-100621-4', '144-100621-5']\n",
    "\n",
    "#MEC- rotte 001 og 002:\n",
    "#include_actions = ['001-280721-1', '001-280721-2', '001-280721-3', '001-280721-4', '001-280721-5'] #Maria sine opptak fra MEC\n",
    "#include_actions = ['002-050721-1', '002-050721-2', '002-050721-3', '002-050721-4', '002-050721-5'] #Maria sine opptak fra MEC\n",
    "\n",
    "\n",
    "# Cast assertion error if include_actions contain actions from multiple entities. \n",
    "animal_entity = include_actions[0].split('-')[0]\n",
    "multiple_entities = all([animal_entity in action_id for action_id in include_actions])\n",
    "assert multiple_entities, \"Requires only actions from same animal entity! Read start of notebook!\"\n",
    "\n",
    "spikes = []\n",
    "tracking = {}\n",
    "for action_id in include_actions:\n",
    "    spikes += dl.load_spiketrains(action_id, lim=lim, identify_neurons=True)\n",
    "    tracking[action_id] = dl.load_tracking(action_id, lim=lim, ca2_transform_data=True) # only get positions\n",
    "\n",
    "\n",
    "print(\"load #spikes: \", len(spikes))\n",
    "\n",
    "\"\"\"\n",
    "# correct for inconsistent mua-annotations\n",
    "spikes = dl.correct_mua(spikes, only_good_mua=True)\n",
    "print(\"#units after mua-corrections:\", len(spikes))\n",
    "spatial_map = sp.SpatialMap()\n",
    "\n",
    "# SELECT brain region(s) to include cells from\n",
    "spikes = dl.in_brain_regions(spikes, ['ca2'])\n",
    "print(\"#units after brain region selection:\", len(spikes))\n",
    "\n",
    "# only include cells that are persistent across all actions\n",
    "spikes = dl.persistent_units(spikes, include_actions)\n",
    "print(f\"Num spike_trains: {len(spikes)}. Num persistent units: {len(spikes) / len(include_actions)}\")\n",
    "\"\"\"\n",
    "\n",
    "spatial_map = sp.SpatialMap()"
   ]
  },
  {
   "cell_type": "code",
   "execution_count": 5,
   "metadata": {},
   "outputs": [],
   "source": [
    "spikes.sort(key=lambda sptr: sptr.annotations[\"mua_quality\"],reverse=True)\n",
    "spikes.sort(key=lambda sptr: sptr.annotations[\"action_id\"])\n",
    "spikes.sort(key=lambda sptr: sptr.annotations[\"unit_idnum\"])\n",
    "spikes.sort(key=lambda sptr: len(sptr.annotations[\"persistent_trials\"]),reverse=True)\n",
    "include_actions.sort()\n",
    "\n",
    "\"\"\"\n",
    "for sptr in spikes:\n",
    "    print(sptr.annotations[\"action_id\"], sptr.annotations[\"unit_idnum\"], len(sptr.annotations[\"persistent_trials\"]))\n",
    "\"\"\"\n",
    "_=2"
   ]
  },
  {
   "cell_type": "code",
   "execution_count": null,
   "metadata": {},
   "outputs": [],
   "source": [
    "unique_unsorted_unit_idnums = []\n",
    "for sptr in spikes:\n",
    "    if sptr.annotations[\"unit_idnum\"] not in unique_unsorted_unit_idnums:\n",
    "        unique_unsorted_unit_idnums.append(sptr.annotations[\"unit_idnum\"])"
   ]
  },
  {
   "cell_type": "code",
   "execution_count": null,
   "metadata": {},
   "outputs": [],
   "source": [
    "cell_rate(spikes[0])"
   ]
  },
  {
   "cell_type": "code",
   "execution_count": null,
   "metadata": {
    "scrolled": false
   },
   "outputs": [],
   "source": [
    "# sort on unit id\n",
    "figscale = 1.2\n",
    "\n",
    "add_title = True\n",
    "for unit_idnum in unique_unsorted_unit_idnums:\n",
    "    unit_spikes = [spike_train for spike_train in spikes if spike_train.annotations[\"unit_idnum\"] == unit_idnum]\n",
    "    fig,axs = plt.subplots(ncols=len(include_actions),figsize=(len(include_actions)*figscale, figscale))\n",
    "    j=0\n",
    "    for i in range(len(include_actions)):\n",
    "        ax = axs[i]\n",
    "        axis_off_labels_on(ax)\n",
    "        if j == len(unit_spikes):\n",
    "            continue\n",
    "        spike_train = unit_spikes[j]\n",
    "        action_id = spike_train.annotations[\"action_id\"]\n",
    "        if action_id != include_actions[i]:\n",
    "            continue\n",
    "        x,y,t,_ = tracking[action_id].T\n",
    "        ratemap = spatial_map.rate_map(x, y, t, spike_train)\n",
    "        ax.imshow(ratemap.T,origin='lower')\n",
    "        j+=1\n",
    "        # add action_id title to first few plots\n",
    "        if add_title:\n",
    "            ax.set_title(spike_train.annotations[\"action_id\"] + \"\\n\" + f\"{cell_rate(spike_train)[0]}\")\n",
    "        else:\n",
    "            # add average cell rate to ratemap title\n",
    "            ax.set_title(cell_rate(spike_train)[0])\n",
    "    add_title = False\n",
    "    \n",
    "    axs[0].set_ylabel(spike_train.annotations[\"unit_idnum\"])\n",
    "    \n",
    "#    plt.savefig('./plots/object-001-191220,'+str(unit_idnum)+'.tiff',dpi=300)\n",
    "\n",
    "#    fig.savefig(f\\\"./plots/object-001-191220-{(spike_train.annotations['unit_idnum'])}.pdf\\\")"
   ]
  },
  {
   "cell_type": "code",
   "execution_count": null,
   "metadata": {},
   "outputs": [],
   "source": []
  },
  {
   "cell_type": "code",
   "execution_count": null,
   "metadata": {},
   "outputs": [],
   "source": []
  },
  {
   "cell_type": "markdown",
   "metadata": {},
   "source": []
  }
 ],
 "metadata": {
  "kernelspec": {
   "display_name": "Python 3",
   "language": "python",
   "name": "python3"
  },
  "language_info": {
   "codemirror_mode": {
    "name": "ipython",
    "version": 3
   },
   "file_extension": ".py",
   "mimetype": "text/x-python",
   "name": "python",
   "nbconvert_exporter": "python",
   "pygments_lexer": "ipython3",
   "version": "3.6.12"
  }
 },
 "nbformat": 4,
 "nbformat_minor": 4
}
